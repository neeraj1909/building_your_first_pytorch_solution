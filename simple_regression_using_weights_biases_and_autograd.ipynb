{
 "cells": [
  {
   "cell_type": "code",
   "execution_count": 1,
   "metadata": {},
   "outputs": [],
   "source": [
    "import numpy as np\n",
    "import matplotlib.pyplot as plt"
   ]
  },
  {
   "cell_type": "markdown",
   "metadata": {},
   "source": [
    "## A simple dataset"
   ]
  },
  {
   "cell_type": "code",
   "execution_count": 3,
   "metadata": {},
   "outputs": [],
   "source": [
    "x_train = np.array ([[4.7], [2.4], [7.5], [7.1], [4.3], \n",
    "                     [7.8], [8.9], [5.2], [4.59], [2.1], \n",
    "                     [8], [5], [7.5], [5], [4],\n",
    "                     [8], [5.2], [4.9], [3], [4.7], \n",
    "                     [4], [4.8], [3.5], [2.1], [4.1]],\n",
    "                    dtype = np.float32)\n",
    "\n",
    "y_train = np.array ([[2.6], [1.6], [3.09], [2.4], [2.4], \n",
    "                     [3.3], [2.6], [1.96], [3.13], [1.76], \n",
    "                     [3.2], [2.1], [1.6], [2.5], [2.2], \n",
    "                     [2.75], [2.4], [1.8], [1], [2], \n",
    "                     [1.6], [2.4], [2.6], [1.5], [3.1]], \n",
    "                    dtype = np.float32)"
   ]
  },
  {
   "cell_type": "markdown",
   "metadata": {},
   "source": [
    "## Exploring the dataset"
   ]
  },
  {
   "cell_type": "code",
   "execution_count": 4,
   "metadata": {},
   "outputs": [
    {
     "data": {
      "image/png": "[encoded data removed]",
      "text/plain": [
       "<Figure size 576x576 with 1 Axes>"
      ]
     },
     "metadata": {
      "needs_background": "light"
     },
     "output_type": "display_data"
    }
   ],
   "source": [
    "plt.figure(figsize=(8,8))\n",
    "plt.scatter(x_train, y_train, c='green', s=250, label='Original data')\n",
    "plt.show()"
   ]
  },
  {
   "cell_type": "markdown",
   "metadata": {},
   "source": [
    "## Building the regression model"
   ]
  },
  {
   "cell_type": "code",
   "execution_count": 5,
   "metadata": {},
   "outputs": [],
   "source": [
    "import torch"
   ]
  },
  {
   "cell_type": "code",
   "execution_count": 6,
   "metadata": {},
   "outputs": [
    {
     "name": "stdout",
     "output_type": "stream",
     "text": [
      "requires_grad for X_train:  False\n",
      "requires_grad for Y_train:  False\n"
     ]
    }
   ],
   "source": [
    "X_train = torch.from_numpy(x_train)\n",
    "Y_train = torch.from_numpy(y_train)\n",
    "\n",
    "print('requires_grad for X_train: ', X_train.requires_grad)\n",
    "print('requires_grad for Y_train: ', Y_train.requires_grad)"
   ]
  },
  {
   "cell_type": "code",
   "execution_count": 7,
   "metadata": {},
   "outputs": [],
   "source": [
    "input_size = 1\n",
    "hidden_size = 1\n",
    "output_size = 1\n",
    "learning_rate = 0.001"
   ]
  },
  {
   "cell_type": "code",
   "execution_count": 8,
   "metadata": {},
   "outputs": [
    {
     "data": {
      "text/plain": [
       "torch.Size([1, 1])"
      ]
     },
     "execution_count": 8,
     "metadata": {},
     "output_type": "execute_result"
    }
   ],
   "source": [
    "w1 = torch.rand(input_size,\n",
    "                hidden_size,\n",
    "                requires_grad=True)\n",
    "\n",
    "w1.shape"
   ]
  },
  {
   "cell_type": "code",
   "execution_count": 9,
   "metadata": {},
   "outputs": [
    {
     "data": {
      "text/plain": [
       "torch.Size([1, 1])"
      ]
     },
     "execution_count": 9,
     "metadata": {},
     "output_type": "execute_result"
    }
   ],
   "source": [
    "b1 = torch.rand(input_size,\n",
    "                hidden_size,\n",
    "                requires_grad=True)\n",
    "\n",
    "b1.shape"
   ]
  },
  {
   "cell_type": "code",
   "execution_count": 10,
   "metadata": {},
   "outputs": [
    {
     "data": {
      "text/plain": [
       "tensor([[0.3467]], requires_grad=True)"
      ]
     },
     "execution_count": 10,
     "metadata": {},
     "output_type": "execute_result"
    }
   ],
   "source": [
    "w1"
   ]
  },
  {
   "cell_type": "code",
   "execution_count": 11,
   "metadata": {},
   "outputs": [
    {
     "data": {
      "text/plain": [
       "tensor([[0.9300]], requires_grad=True)"
      ]
     },
     "execution_count": 11,
     "metadata": {},
     "output_type": "execute_result"
    }
   ],
   "source": [
    "b1"
   ]
  },
  {
   "cell_type": "code",
   "execution_count": 12,
   "metadata": {},
   "outputs": [
    {
     "name": "stdout",
     "output_type": "stream",
     "text": [
      "100 6.345425605773926\n",
      "200 6.188999176025391\n",
      "300 6.14107084274292\n",
      "400 6.126384258270264\n",
      "500 6.121884822845459\n",
      "600 6.120506286621094\n",
      "700 6.120083808898926\n",
      "800 6.1199541091918945\n",
      "900 6.119914531707764\n",
      "1000 6.119901657104492\n",
      "1100 6.119898796081543\n",
      "1200 6.11989688873291\n",
      "1300 6.11989688873291\n",
      "1400 6.119896411895752\n",
      "1500 6.11989688873291\n",
      "1600 6.11989688873291\n",
      "1700 6.119897842407227\n",
      "1800 6.119897365570068\n",
      "1900 6.119896411895752\n",
      "2000 6.119896411895752\n",
      "2100 6.119896411895752\n",
      "2200 6.119896411895752\n",
      "2300 6.119896411895752\n",
      "2400 6.119896411895752\n",
      "2500 6.119896411895752\n",
      "2600 6.119896411895752\n",
      "2700 6.119896411895752\n",
      "2800 6.119896411895752\n",
      "2900 6.119896411895752\n",
      "3000 6.119896411895752\n",
      "3100 6.119896411895752\n",
      "3200 6.119896411895752\n",
      "3300 6.119896411895752\n",
      "3400 6.119896411895752\n",
      "3500 6.119896411895752\n",
      "3600 6.119896411895752\n",
      "3700 6.119896411895752\n",
      "3800 6.119896411895752\n",
      "3900 6.119896411895752\n",
      "4000 6.119896411895752\n"
     ]
    }
   ],
   "source": [
    "for iter in range(1, 4001):\n",
    "    y_pred = X_train.mm(w1).clamp(min=0).add(b1)  # here, clamp simulates Relu activation after a linear layer\n",
    "    loss = (y_pred - Y_train).pow(2).sum()\n",
    "    \n",
    "    if iter % 100 == 0:\n",
    "        print(iter, loss.item())\n",
    "    \n",
    "    loss.backward()\n",
    "    \n",
    "    with torch.no_grad():    # diabling the gradient calculation\n",
    "        w1 -= learning_rate * w1.grad\n",
    "        b1 -= learning_rate * b1.grad\n",
    "        w1.grad.zero_()\n",
    "        b1.grad.zero_()"
   ]
  },
  {
   "cell_type": "code",
   "execution_count": 13,
   "metadata": {},
   "outputs": [
    {
     "name": "stdout",
     "output_type": "stream",
     "text": [
      "w1:  tensor([[0.1751]], requires_grad=True)\n",
      "b1:  tensor([[1.4045]], requires_grad=True)\n"
     ]
    }
   ],
   "source": [
    "print('w1: ', w1)\n",
    "print('b1: ', b1)"
   ]
  },
  {
   "cell_type": "markdown",
   "metadata": {},
   "source": [
    "## Prediction using the trained model on the same dataset"
   ]
  },
  {
   "cell_type": "code",
   "execution_count": 15,
   "metadata": {},
   "outputs": [
    {
     "data": {
      "text/plain": [
       "tensor([[4.7000],\n",
       "        [2.4000],\n",
       "        [7.5000],\n",
       "        [7.1000],\n",
       "        [4.3000],\n",
       "        [7.8000],\n",
       "        [8.9000],\n",
       "        [5.2000],\n",
       "        [4.5900],\n",
       "        [2.1000],\n",
       "        [8.0000],\n",
       "        [5.0000],\n",
       "        [7.5000],\n",
       "        [5.0000],\n",
       "        [4.0000],\n",
       "        [8.0000],\n",
       "        [5.2000],\n",
       "        [4.9000],\n",
       "        [3.0000],\n",
       "        [4.7000],\n",
       "        [4.0000],\n",
       "        [4.8000],\n",
       "        [3.5000],\n",
       "        [2.1000],\n",
       "        [4.1000]])"
      ]
     },
     "execution_count": 15,
     "metadata": {},
     "output_type": "execute_result"
    }
   ],
   "source": [
    "x_train_tensor = torch.from_numpy(x_train)\n",
    "\n",
    "x_train_tensor"
   ]
  },
  {
   "cell_type": "code",
   "execution_count": 16,
   "metadata": {},
   "outputs": [
    {
     "data": {
      "text/plain": [
       "tensor([[2.2273],\n",
       "        [1.8247],\n",
       "        [2.7175],\n",
       "        [2.6475],\n",
       "        [2.1573],\n",
       "        [2.7701],\n",
       "        [2.9626],\n",
       "        [2.3149],\n",
       "        [2.2081],\n",
       "        [1.7721],\n",
       "        [2.8051],\n",
       "        [2.2799],\n",
       "        [2.7175],\n",
       "        [2.2799],\n",
       "        [2.1048],\n",
       "        [2.8051],\n",
       "        [2.3149],\n",
       "        [2.2624],\n",
       "        [1.9297],\n",
       "        [2.2273],\n",
       "        [2.1048],\n",
       "        [2.2448],\n",
       "        [2.0172],\n",
       "        [1.7721],\n",
       "        [2.1223]], grad_fn=<AddBackward0>)"
      ]
     },
     "execution_count": 16,
     "metadata": {},
     "output_type": "execute_result"
    }
   ],
   "source": [
    "predicted_in_tensor = x_train_tensor.mm(w1).clamp(min=0).add(b1)\n",
    "\n",
    "predicted_in_tensor    # all of the predicted values"
   ]
  },
  {
   "cell_type": "code",
   "execution_count": 17,
   "metadata": {},
   "outputs": [
    {
     "data": {
      "text/plain": [
       "array([[2.2273371],\n",
       "       [1.8246689],\n",
       "       [2.717542 ],\n",
       "       [2.6475127],\n",
       "       [2.1573079],\n",
       "       [2.7700639],\n",
       "       [2.9626443],\n",
       "       [2.3148737],\n",
       "       [2.208079 ],\n",
       "       [1.7721468],\n",
       "       [2.8050785],\n",
       "       [2.279859 ],\n",
       "       [2.717542 ],\n",
       "       [2.279859 ],\n",
       "       [2.104786 ],\n",
       "       [2.8050785],\n",
       "       [2.3148737],\n",
       "       [2.2623518],\n",
       "       [1.9297128],\n",
       "       [2.2273371],\n",
       "       [2.104786 ],\n",
       "       [2.2448444],\n",
       "       [2.0172493],\n",
       "       [1.7721468],\n",
       "       [2.1222932]], dtype=float32)"
      ]
     },
     "execution_count": 17,
     "metadata": {},
     "output_type": "execute_result"
    }
   ],
   "source": [
    "predicted = predicted_in_tensor.detach().numpy()\n",
    "predicted"
   ]
  },
  {
   "cell_type": "code",
   "execution_count": 18,
   "metadata": {},
   "outputs": [
    {
     "data": {
      "image/png": "[encoded data removed]",
      "text/plain": [
       "<Figure size 576x576 with 1 Axes>"
      ]
     },
     "metadata": {
      "needs_background": "light"
     },
     "output_type": "display_data"
    }
   ],
   "source": [
    "plt.figure(figsize=(8, 8))\n",
    "plt.scatter(x_train, y_train, c='green', s=250, label='Original data')\n",
    "plt.plot(x_train, predicted, label='Fitted line')\n",
    "plt.legend()\n",
    "plt.show()"
   ]
  },
  {
   "cell_type": "code",
   "execution_count": null,
   "metadata": {},
   "outputs": [],
   "source": []
  },
  {
   "cell_type": "markdown",
   "metadata": {},
   "source": [
    "## Comparing this hand-crafted regression model with linear regression estimator in scikit-learn"
   ]
  },
  {
   "cell_type": "code",
   "execution_count": 19,
   "metadata": {},
   "outputs": [],
   "source": [
    "from sklearn.linear_model import LinearRegression"
   ]
  },
  {
   "cell_type": "code",
   "execution_count": 20,
   "metadata": {},
   "outputs": [],
   "source": [
    "reg = LinearRegression().fit(x_train, y_train)"
   ]
  },
  {
   "cell_type": "code",
   "execution_count": 21,
   "metadata": {},
   "outputs": [
    {
     "name": "stdout",
     "output_type": "stream",
     "text": [
      "w1 with sklearn is:  [[0.17507163]]\n"
     ]
    }
   ],
   "source": [
    "print(\"w1 with sklearn is: \", reg.coef_)"
   ]
  },
  {
   "cell_type": "code",
   "execution_count": 22,
   "metadata": {},
   "outputs": [
    {
     "name": "stdout",
     "output_type": "stream",
     "text": [
      "b1 with sklearn is:  [1.4045022]\n"
     ]
    }
   ],
   "source": [
    "print(\"b1 with sklearn is: \", reg.intercept_)"
   ]
  },
  {
   "cell_type": "code",
   "execution_count": 24,
   "metadata": {},
   "outputs": [
    {
     "data": {
      "text/plain": [
       "array([[2.2273388],\n",
       "       [1.8246741],\n",
       "       [2.7175393],\n",
       "       [2.6475105],\n",
       "       [2.1573102],\n",
       "       [2.770061 ],\n",
       "       [2.9626396],\n",
       "       [2.3148746],\n",
       "       [2.208081 ],\n",
       "       [1.7721525],\n",
       "       [2.8050752],\n",
       "       [2.2798603],\n",
       "       [2.7175393],\n",
       "       [2.2798603],\n",
       "       [2.1047888],\n",
       "       [2.8050752],\n",
       "       [2.3148746],\n",
       "       [2.2623532],\n",
       "       [1.9297171],\n",
       "       [2.2273388],\n",
       "       [2.1047888],\n",
       "       [2.2448459],\n",
       "       [2.017253 ],\n",
       "       [1.7721525],\n",
       "       [2.1222959]], dtype=float32)"
      ]
     },
     "execution_count": 24,
     "metadata": {},
     "output_type": "execute_result"
    }
   ],
   "source": [
    "predicted = reg.predict(x_train)\n",
    "\n",
    "predicted"
   ]
  },
  {
   "cell_type": "code",
   "execution_count": 25,
   "metadata": {},
   "outputs": [
    {
     "data": {
      "image/png": "[encoded data removed]",
      "text/plain": [
       "<Figure size 576x576 with 1 Axes>"
      ]
     },
     "metadata": {
      "needs_background": "light"
     },
     "output_type": "display_data"
    }
   ],
   "source": [
    "plt.figure(figsize=(8, 8))\n",
    "plt.scatter(x_train, y_train, c='green', s=250, label='Original data')\n",
    "plt.plot(x_train, predicted, label='Fitted line')\n",
    "plt.legend()\n",
    "plt.show()"
   ]
  },
  {
   "cell_type": "code",
   "execution_count": null,
   "metadata": {},
   "outputs": [],
   "source": []
  }
 ],
 "metadata": {
  "kernelspec": {
   "display_name": "Python 3",
   "language": "python",
   "name": "python3"
  },
  "language_info": {
   "codemirror_mode": {
    "name": "ipython",
    "version": 3
   },
   "file_extension": ".py",
   "mimetype": "text/x-python",
   "name": "python",
   "nbconvert_exporter": "python",
   "pygments_lexer": "ipython3",
   "version": "3.8.5"
  }
 },
 "nbformat": 4,
 "nbformat_minor": 4
}
